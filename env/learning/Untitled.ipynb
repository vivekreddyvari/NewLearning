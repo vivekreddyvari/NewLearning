{
 "cells": [
  {
   "cell_type": "code",
   "execution_count": 2,
   "id": "f484f69e",
   "metadata": {},
   "outputs": [],
   "source": [
    "import os\n",
    "import csv\n",
    "from pathlib import Path"
   ]
  },
  {
   "cell_type": "code",
   "execution_count": 2,
   "id": "3ac95281",
   "metadata": {},
   "outputs": [],
   "source": [
    "class ReadFile:\n",
    "    \n",
    "    def __init__(self, file_name, file_data, file_type):\n",
    "        self._file_name = file_name\n",
    "        self._file_data = file_data\n",
    "        self._file_type = file_type\n",
    "\n",
    "    @property\n",
    "    def file_name(self):\n",
    "        set_path = os.path.abspath('')\n",
    "        obj_list = os.listdir(set_path)\n",
    "        for file_name in obj_list:\n",
    "            obj_name = Path(file_name).name\n",
    "            # directory Name\n",
    "            dir_name = []\n",
    "            file_name = []\n",
    "            if Path(file_name).is_dir():\n",
    "                dir_name = obj_name\n",
    "            else:\n",
    "                file_name = obj_name\n",
    "                \n",
    "        files_dir = os.listdir(self._file_dire)\n",
    "        file_names = [i for i in files_dir if os.path.isfile(i)]\n",
    "\n",
    "        # name of the file\n",
    "        for f_name in file_names:\n",
    "            file_extension = Path(f_name).suffix\n",
    "            types = ['.gz', '.json', '.csv', '.xml', '.txt', '.zip', '.tar']\n",
    "\n",
    "        return self._file_name\n",
    "        pass\n",
    "\n",
    "    @property\n",
    "    def file_type(self):\n",
    "        return self._file_type\n",
    "\n",
    "    def __str__(self):\n",
    "        return f\"{self._file_name}\"\n",
    "\n",
    "    def __repr__(self):\n",
    "        return f\"{self._file_name} with {self._file_type} type\"\n",
    "\n",
    "    def __get__(self, instance, owner_class):\n",
    "        if instance is None:\n",
    "            return self\n",
    "        else:\n",
    "            return self._value\n",
    "\n",
    "    def __set__(self, instance, value):\n",
    "        self._value = value"
   ]
  },
  {
   "cell_type": "code",
   "execution_count": 3,
   "id": "6dc65f8a",
   "metadata": {},
   "outputs": [
    {
     "name": "stdout",
     "output_type": "stream",
     "text": [
      "/Users/vivekreddyvari/opt/anaconda/NewLearning/OOP/Descriptors/env/learning\n",
      "Enumerations\n",
      ".pytest_cache\n",
      "ExceptionSingleInheritance\n",
      "models\n",
      "Project\n",
      ".ipynb_checkpoints\n"
     ]
    }
   ],
   "source": [
    "# read file \n",
    "# set the default path\n",
    "def_path = os.path.abspath('')\n",
    "print(def_path)\n",
    "# list directories\n",
    "directories = os.listdir(def_path)\n",
    "for num, names in enumerate(directories):\n",
    "    # print(f\"{num}={names}\")\n",
    "    dir_names = Path(names).name\n",
    "    if Path(names).is_dir():\n",
    "        print(dir_names)\n",
    "    # print(f\"{num}={file_types}\")\n",
    "    #other_ext = []\n",
    "    #if file_types in ('.py', '.ipynb', '') :\n",
    "        #other_ext.append(file_types)\n",
    "        \n",
    "        "
   ]
  },
  {
   "cell_type": "code",
   "execution_count": 7,
   "id": "d6c20c71",
   "metadata": {},
   "outputs": [
    {
     "name": "stdout",
     "output_type": "stream",
     "text": [
      "['Enumerations', '.pytest_cache', 'ExceptionSingleInheritance', 'models', 'Project', '.ipynb_checkpoints'] ['08ProperitiesandDescriptors.py', '03InstanceProperties.py', '02GetterNSetter.py', '07PropertyLookup.py', 'rough_work.py', 'Untitled.ipynb', 'sudokochecker.py', 'angle.py', 'timer.py', 'test.py', '10Application02.py', 'point.py', '09Application01.py', '11FunctionAndDescriptors.py', 'ranger.py', 'stack.py', 'weeker.py', '01Descriptors.py', 'triangle.py', 'example.txt', 'method.py', 'stringsearch.py', '06SetNameMethod.py', 'readfile.py', '05InstanceProperties.py', '01DescriptorsCoding.py', 'stack_class.py', '04StrongWeakReferences.py']\n"
     ]
    }
   ],
   "source": [
    "set_path = os.path.abspath('')\n",
    "obj_list = os.listdir(set_path)\n",
    "\n",
    "file_to_be_found = 'example.txt'\n",
    "\n",
    "def file_searcher(dir_name, file_to_be_found):\n",
    "    for directory_name in dir_name:\n",
    "        path = set_path + '/' + directory_name\n",
    "        print(path, directory_name)\n",
    "        file_list = os.listdir(path)\n",
    "        print(file_list)\n",
    "        if file_to_be_found in file_list:\n",
    "            print(path)\n",
    "            return path\n",
    "        else:\n",
    "            raise FileNotFoundError\n",
    "            \n",
    "\n",
    "dir_name = []\n",
    "f_name = []\n",
    "for file_name in obj_list:\n",
    "    obj_name = Path(file_name).name\n",
    "    # directory Name\n",
    "    if Path(file_name).is_dir():\n",
    "        dir_name.append(obj_name)\n",
    "    else:\n",
    "        f_name.append(obj_name)\n",
    "print(dir_name, f_name)\n",
    "\n",
    "# search the file in the directories and in the files\n",
    "\n",
    "if file_to_be_found in f_name:\n",
    "    directory_of_file = set_path\n",
    "else:\n",
    "    # search in other directories for the file\n",
    "    print(directory_of_file)\n",
    "    \n",
    "    directory_of_file = file_searcher(dir_name, file_to_be_found)\n",
    "    print(directory_of_file)\n",
    "\n"
   ]
  },
  {
   "cell_type": "code",
   "execution_count": null,
   "id": "ea36b554",
   "metadata": {},
   "outputs": [],
   "source": [
    "\n",
    "p = Path(file_to_be_found)\n",
    "\n",
    "# read the file\n",
    "with p.open as f:\n",
    "    f.readline()\n",
    "\n",
    "\n",
    "\n",
    "    "
   ]
  },
  {
   "cell_type": "code",
   "execution_count": 10,
   "id": "bae7c108",
   "metadata": {},
   "outputs": [],
   "source": [
    "set_path = os.path.abspath('')\n",
    "obj_list = os.listdir(set_path)\n"
   ]
  },
  {
   "cell_type": "code",
   "execution_count": 31,
   "id": "3702663a",
   "metadata": {},
   "outputs": [],
   "source": [
    "file_to_be_found = 'example.txt'\n",
    "\n",
    "def file_searcher(dir_name, file_to_be_found):\n",
    "    for directory_name in dir_name:\n",
    "        path = set_path + '/' + directory_name\n",
    "        try:\n",
    "            if file_to_be_found in os.listdir(path):\n",
    "                return path\n",
    "        except FileNotFoundError as ex:\n",
    "            print(f\"File not found\")"
   ]
  },
  {
   "cell_type": "code",
   "execution_count": 50,
   "id": "4a39b0ae",
   "metadata": {},
   "outputs": [
    {
     "name": "stdout",
     "output_type": "stream",
     "text": [
      "1\n",
      "ext\n",
      "men\n",
      "wns\n",
      "asd\n",
      "dsd\n"
     ]
    }
   ],
   "source": [
    "dir_name = []\n",
    "f_name = []\n",
    "for file_name in obj_list:\n",
    "    obj_name = Path(file_name).name\n",
    "    # directory Name\n",
    "    if Path(file_name).is_dir():\n",
    "        dir_name.append(obj_name)\n",
    "    else:\n",
    "        f_name.append(obj_name)\n",
    "# print(dir_name, f_name)\n",
    "\n",
    "# search the file in the directories and in the files\n",
    "if file_to_be_found in f_name:\n",
    "    directory_of_file = set_path\n",
    "else:\n",
    "    # search in other directories for the file\n",
    "    directory_of_file = file_searcher(dir_name, file_to_be_found)\n",
    "    # print(directory_of_file)\n",
    "\n",
    "for files in os.listdir(directory_of_file):\n",
    "    name_of_file = Path(files).name\n",
    "    type_of_file = Path(files).suffix\n",
    "    # print(files, name_of_file, type_of_file)\n",
    "files_names = [name for name in os.listdir(directory_of_file)]\n",
    "print(len(files_names))\n",
    "if type_of_file == '.txt':\n",
    "    file_to_read = directory_of_file + '/' + name_of_file\n",
    "    with open(file_to_read, 'r') as f:\n",
    "        data = f.read()\n",
    "        print(data)\n",
    "    "
   ]
  },
  {
   "cell_type": "code",
   "execution_count": null,
   "id": "d35034db",
   "metadata": {},
   "outputs": [],
   "source": []
  }
 ],
 "metadata": {
  "kernelspec": {
   "display_name": "Python 3 (ipykernel)",
   "language": "python",
   "name": "python3"
  },
  "language_info": {
   "codemirror_mode": {
    "name": "ipython",
    "version": 3
   },
   "file_extension": ".py",
   "mimetype": "text/x-python",
   "name": "python",
   "nbconvert_exporter": "python",
   "pygments_lexer": "ipython3",
   "version": "3.9.0"
  }
 },
 "nbformat": 4,
 "nbformat_minor": 5
}
